{
 "cells": [
  {
   "cell_type": "code",
   "execution_count": 1,
   "metadata": {},
   "outputs": [],
   "source": [
    "import requests\n",
    "import pandas as pd"
   ]
  },
  {
   "cell_type": "code",
   "execution_count": 2,
   "metadata": {},
   "outputs": [],
   "source": [
    "#variables\n",
    "\n",
    "entity = 'https://iot.hamburg.de/v1.1/Things?'\n",
    "rows = '$skip=0&$top=5000&'\n",
    "#gefiltert nach Fahrradzählstationen\n",
    "filter = '$filter=((properties%2FownerThing+eq+%27Hamburg+Verkehrsanlagen%27))'\n",
    "filter_observation = '?$skip=0&$top=3&$orderby=resultTime+desc'\n",
    "\n",
    "url = entity + rows + filter"
   ]
  },
  {
   "cell_type": "code",
   "execution_count": 3,
   "metadata": {},
   "outputs": [],
   "source": [
    "response = requests.get(url)\n",
    "things_data = response.json()"
   ]
  },
  {
   "cell_type": "code",
   "execution_count": 4,
   "metadata": {},
   "outputs": [],
   "source": [
    "# get a list of datastream_link from every thing\n",
    "datastreams = []\n",
    "for thing in things_data['value']:\n",
    "    thing = thing['Datastreams@iot.navigationLink'] \n",
    "    datastreams.append(thing)"
   ]
  },
  {
   "cell_type": "code",
   "execution_count": 5,
   "metadata": {},
   "outputs": [],
   "source": [
    "## get a list of datastreams from every thing\n",
    "# all links with last 3 observations\n",
    "observations = []\n",
    "for stream in datastreams:\n",
    "    stream = requests.get(stream)\n",
    "    data = stream.json()\n",
    "    value = data['value']\n",
    "    link = value[0]['Observations@iot.navigationLink']+filter_observation\n",
    "    observations.append(link)"
   ]
  },
  {
   "cell_type": "code",
   "execution_count": null,
   "metadata": {},
   "outputs": [],
   "source": [
    "final_df = pd.DataFrame() \n",
    "result_list = []\n",
    "resultTime_list = []\n",
    "coordinates_list = []\n",
    "\n",
    "for observation in observations:\n",
    "    request = requests.get(observation)\n",
    "    data = request.json()\n",
    "    values = data['value']\n",
    "\n",
    "    for item in values:\n",
    "        # result = counts and resulttime = time\n",
    "        result_list.append(item['result'])\n",
    "        resultTime_list.append(item['resultTime'])\n",
    "\n",
    "        # holding coordinates\n",
    "        link = item['FeatureOfInterest@iot.navigationLink']\n",
    "\n",
    "        # Request 'FeatureOfInterest@iot.navigationLink'\n",
    "        request = requests.get(link)\n",
    "        feature_of_interest = request.json()\n",
    "        coordinates = feature_of_interest['feature']['geometry']['coordinates']\n",
    "        coordinates_list.append(coordinates)\n",
    "\n",
    "df = pd.DataFrame({'result': result_list, 'resultTime': resultTime_list, 'coordinates': coordinates_list})\n",
    "final_df = pd.concat([final_df, df], ignore_index=True)"
   ]
  },
  {
   "cell_type": "code",
   "execution_count": null,
   "metadata": {},
   "outputs": [],
   "source": [
    "df.head(2)"
   ]
  }
 ],
 "metadata": {
  "kernelspec": {
   "display_name": "dksr_kgl",
   "language": "python",
   "name": "python3"
  },
  "language_info": {
   "codemirror_mode": {
    "name": "ipython",
    "version": 3
   },
   "file_extension": ".py",
   "mimetype": "text/x-python",
   "name": "python",
   "nbconvert_exporter": "python",
   "pygments_lexer": "ipython3",
   "version": "3.10.9"
  },
  "orig_nbformat": 4
 },
 "nbformat": 4,
 "nbformat_minor": 2
}
